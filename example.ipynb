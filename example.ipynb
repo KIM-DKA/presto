{
 "cells": [
  {
   "cell_type": "markdown",
   "metadata": {},
   "source": [
    "# 패키지 구성\n",
    "    \n",
    "* hive -  pyhive wrapper, 쿼리, csv, excel 저장 등 사용\n",
    "* presto - beta\n",
    "* Date -  날짜 생성  LTAS 등 파티션 날짜 바꿀때 유용\n",
    "* Job - 작업 시간 조정 (예약, 등)\n",
    "   \n",
    "    \n",
    "   "
   ]
  },
  {
   "cell_type": "markdown",
   "metadata": {},
   "source": [
    "# Hive \n",
    "* hive.sql(sql,retry = 1) --취소시 쿼리 자동 kill\n",
    "* hive.create_table(table_name,columns = None,partitions = None,storage_type = 'ORC',drop  = False)\n",
    "* hive.to_excel(sql,wb = None,sheet_name='Sheet',fname = str(int(time.time()))+'.xlsx',hold = False)\n",
    "* hive.to_csv(sql,fname = str(int(time.time()))+'.csv',delimiter='\\t', quoting = False,header = False)\n",
    "* hive.to_sql(sql,repl=\"target:tag\")"
   ]
  },
  {
   "cell_type": "code",
   "execution_count": 14,
   "metadata": {},
   "outputs": [
    {
     "name": "stdout",
     "output_type": "stream",
     "text": [
      "프레스토 커넥터\n"
     ]
    }
   ],
   "source": [
    "import MyHiveConnector\n",
    "print(Presto.__doc__)"
   ]
  },
  {
   "cell_type": "code",
   "execution_count": 6,
   "metadata": {},
   "outputs": [
    {
     "name": "stdout",
     "output_type": "stream",
     "text": [
      "\n",
      "\t\ttext : BDAP 에서 돌아가는 쿼리들 ; 분리 그대로 \n",
      "\t\t\tETL_YMD, BASE_YM, BASE_DATE 형식 감지 (오류 있을수 있음)\n",
      "\t\tretry: sql() 에서 재시도할 횟수 \n",
      "\n",
      "\t\t\n"
     ]
    }
   ],
   "source": [
    "#print(hive.create_table.__doc__)\n",
    "#print(hive.to_excel.__doc__)\n",
    "#print(hive.to_csv.__doc__)\n",
    "#print(hive.to_sql.__doc__)"
   ]
  },
  {
   "cell_type": "code",
   "execution_count": 2,
   "metadata": {},
   "outputs": [],
   "source": [
    "#드랍하고 default 스키마 kys_test 테이블 생성\n",
    "#a,b,c,d 스트링 타입 컬럼, d  int 타입, e 더블타입\n",
    "hive.create_table('default.kys_test',columns ='a,b,c,d int,e double',drop = True)\n",
    "#dryrun -> 쿼리만 생성 \n",
    "hive.create_table('default.kys_test',columns ='a,b,c,d int,e double',dry_run = True)"
   ]
  },
  {
   "cell_type": "code",
   "execution_count": 4,
   "metadata": {},
   "outputs": [
    {
     "data": {
      "text/plain": [
       "[('a', 'string', ''),\n",
       " ('b', 'string', ''),\n",
       " ('c', 'string', ''),\n",
       " ('d', 'int', ''),\n",
       " ('e', 'double', '')]"
      ]
     },
     "execution_count": 4,
     "metadata": {},
     "output_type": "execute_result"
    }
   ],
   "source": [
    "#방금 생성한 테이블\n",
    "hive.sql('desc default.kys_test')"
   ]
  },
  {
   "cell_type": "code",
   "execution_count": 6,
   "metadata": {},
   "outputs": [],
   "source": [
    "#데이터 넣기\n",
    "hive.sql(\"insert into default.kys_test select 'a','b','c',4,5\")"
   ]
  },
  {
   "cell_type": "code",
   "execution_count": 8,
   "metadata": {},
   "outputs": [
    {
     "data": {
      "text/html": [
       "<div>\n",
       "<style scoped>\n",
       "    .dataframe tbody tr th:only-of-type {\n",
       "        vertical-align: middle;\n",
       "    }\n",
       "\n",
       "    .dataframe tbody tr th {\n",
       "        vertical-align: top;\n",
       "    }\n",
       "\n",
       "    .dataframe thead th {\n",
       "        text-align: right;\n",
       "    }\n",
       "</style>\n",
       "<table border=\"1\" class=\"dataframe\">\n",
       "  <thead>\n",
       "    <tr style=\"text-align: right;\">\n",
       "      <th></th>\n",
       "      <th>a</th>\n",
       "      <th>b</th>\n",
       "      <th>c</th>\n",
       "      <th>d</th>\n",
       "      <th>e</th>\n",
       "    </tr>\n",
       "  </thead>\n",
       "  <tbody>\n",
       "    <tr>\n",
       "      <th>0</th>\n",
       "      <td>a</td>\n",
       "      <td>b</td>\n",
       "      <td>c</td>\n",
       "      <td>4</td>\n",
       "      <td>5.0</td>\n",
       "    </tr>\n",
       "  </tbody>\n",
       "</table>\n",
       "</div>"
      ],
      "text/plain": [
       "   a  b  c  d    e\n",
       "0  a  b  c  4  5.0"
      ]
     },
     "execution_count": 8,
     "metadata": {},
     "output_type": "execute_result"
    }
   ],
   "source": [
    "#셀렉트 example \n",
    "data = hive.sql('select * from default.kys_test')\n",
    "# 실패시 retry 만큼 실행 --> return code 1,2,3 시 join option 변경하고 5분 뒤 자동실행\n",
    "data = hive.sql('select * from default.kys_test', retry = 3)\n",
    "\n",
    "#pandas df 로 변환\n",
    "df = pd.DataFrame(data,columns = myhive.field_names)\n",
    "df.head()"
   ]
  },
  {
   "cell_type": "code",
   "execution_count": 17,
   "metadata": {},
   "outputs": [
    {
     "data": {
      "text/plain": [
       "<matplotlib.axes._subplots.AxesSubplot at 0x7f359ccc3908>"
      ]
     },
     "execution_count": 17,
     "metadata": {},
     "output_type": "execute_result"
    },
    {
     "data": {
      "image/png": "[encoded data removed]",
      "text/plain": [
       "<Figure size 720x720 with 1 Axes>"
      ]
     },
     "metadata": {},
     "output_type": "display_data"
    }
   ],
   "source": [
    "df.plot('d','e', figsize = (10,10),grid = True,title = '한글',style = 'o',markersize = 10)"
   ]
  },
  {
   "cell_type": "code",
   "execution_count": null,
   "metadata": {},
   "outputs": [],
   "source": [
    "#hive.to_excel(sql,wb = None,sheet_name='Sheet',fname = str(int(time.time()))+'.xlsx',hold = False)\n",
    "#엑셀 생성 - 주피터노트북에 있음\n",
    "hive.to_excel('select * from default.kys_test')\n",
    "\n",
    "#시트명,파일명 변경 후 생성 \n",
    "hive.to_excel('select * from default.kys_test',sheet_name = 'test',fname = 'testfile.xlsx')\n",
    "\n",
    "#시트 여러개 생성하기\n",
    "wb = hive.to_excel('select * from default.kys_test',sheet_name = '1번시트',hold = True)\n",
    "hive.to_excel('select * from default.kys_test',wb = wb,sheet_name = '2번시트',fname = '여러시트.xlsx')\n",
    "\n",
    "\n"
   ]
  },
  {
   "cell_type": "code",
   "execution_count": null,
   "metadata": {},
   "outputs": [],
   "source": [
    "#hive.to_csv(sql,fname = str(int(time.time()))+'.csv',delimiter='\\t', quoting = False,header = False)\n",
    "#탭 분리된 csv (기본값)\n",
    "hive.to_csv('select * from default.kys_test')\n",
    "\n",
    "#헤어포함,탭분리\n",
    "hive.to_csv('select * from default.kys_test',header = True)\n",
    "\n",
    "#딜리미터 변경\n",
    "hive.to_csv('select * from default.kys_test',header = True,delimiter = ',')\n",
    "\n",
    "#모든 값 쉼표 처리 - \"a\",\"b\",\"c\",\"4\",\"5.0\"\n",
    "hive.to_csv('select * from default.kys_test',delimiter = ',',quoting = True)\n",
    "\n"
   ]
  },
  {
   "cell_type": "code",
   "execution_count": null,
   "metadata": {},
   "outputs": [],
   "source": [
    "# 자동변환 예제 8자리--> ETLYMD\n",
    "\n",
    "sql = \"\"\"select * from table where date = '20190101' ;\n",
    "         create table default.test as select 1;\"\"\"\n",
    "hive.to_sql(sql)"
   ]
  },
  {
   "cell_type": "code",
   "execution_count": 1,
   "metadata": {},
   "outputs": [
    {
     "name": "stdout",
     "output_type": "stream",
     "text": [
      "#파티션 쓰는 경우 repl 변수 활용, 예)  20190101:ETL_YMD|201901:ETL_YM\n",
      "#==================Variables======================\n",
      "BASE_YM =\n",
      "#==================Python SQL======================\n",
      "sql = \"\"\"select * from table where date = '20190101' \"\"\"\n",
      "myhive.sql(sql,retry = 3)\n",
      "\n",
      "sql = \"\"\"create table default.test as select 1 \"\"\"\n",
      "myhive.sql(sql,retry = 3)\n",
      "\n",
      "sql = \"\"\"select 1 where base_ym = {BASE_YM} \"\"\".format(BASE_YM = base_ym)\n",
      "myhive.sql(sql,retry = 3)\n",
      "\n"
     ]
    }
   ],
   "source": [
    "# 수동변환 예제 8자리--> ETLYMD\n",
    "\n",
    "sql = \"\"\"select * from table where date = '20190101' ;\n",
    "         create table default.test as select 1;\n",
    "         select 1 where base_ym = 201908;\"\"\"\n",
    "hive.to_sql(sql,repl=\"201908:BASE_YM\")"
   ]
  },
  {
   "cell_type": "markdown",
   "metadata": {},
   "source": [
    "# Date\n",
    "* Date.between(시작,처음)\n",
    "* Date.add(시작,일수)\n",
    "* Date.subtract(시작,일수)\n",
    "* Date.month_diff(시작,차이)\n",
    "* Date.last_day(YYYYMM)\n",
    "* Date.first_datyYYYYMM)\n",
    "* Date.get_dow(YYYYMMDD) - 요일"
   ]
  },
  {
   "cell_type": "code",
   "execution_count": 1,
   "metadata": {},
   "outputs": [
    {
     "data": {
      "text/plain": [
       "['20200225',\n",
       " '20200226',\n",
       " '20200227',\n",
       " '20200228',\n",
       " '20200229',\n",
       " '20200301',\n",
       " '20200302',\n",
       " '20200303']"
      ]
     },
     "execution_count": 1,
     "metadata": {},
     "output_type": "execute_result"
    }
   ],
   "source": [
    "Date.between(20200225,20200303)"
   ]
  },
  {
   "cell_type": "code",
   "execution_count": 4,
   "metadata": {},
   "outputs": [
    {
     "data": {
      "text/plain": [
       "'20181101'"
      ]
     },
     "execution_count": 4,
     "metadata": {},
     "output_type": "execute_result"
    }
   ],
   "source": [
    "Date.add(20181031,1)"
   ]
  },
  {
   "cell_type": "code",
   "execution_count": 21,
   "metadata": {},
   "outputs": [
    {
     "data": {
      "text/plain": [
       "'20181231'"
      ]
     },
     "execution_count": 21,
     "metadata": {},
     "output_type": "execute_result"
    }
   ],
   "source": [
    "Date.subtract(20190101,1)"
   ]
  },
  {
   "cell_type": "code",
   "execution_count": 22,
   "metadata": {},
   "outputs": [
    {
     "data": {
      "text/plain": [
       "'201902'"
      ]
     },
     "execution_count": 22,
     "metadata": {},
     "output_type": "execute_result"
    }
   ],
   "source": [
    "Date.month_diff(201801,13)"
   ]
  },
  {
   "cell_type": "code",
   "execution_count": 24,
   "metadata": {},
   "outputs": [
    {
     "data": {
      "text/plain": [
       "'20200229'"
      ]
     },
     "execution_count": 24,
     "metadata": {},
     "output_type": "execute_result"
    }
   ],
   "source": [
    "Date.last_day(202002)"
   ]
  },
  {
   "cell_type": "code",
   "execution_count": 26,
   "metadata": {},
   "outputs": [
    {
     "data": {
      "text/plain": [
       "'20180101'"
      ]
     },
     "execution_count": 26,
     "metadata": {},
     "output_type": "execute_result"
    }
   ],
   "source": [
    "Date.first_day(201801)"
   ]
  },
  {
   "cell_type": "code",
   "execution_count": 27,
   "metadata": {},
   "outputs": [
    {
     "data": {
      "text/plain": [
       "'토'"
      ]
     },
     "execution_count": 27,
     "metadata": {},
     "output_type": "execute_result"
    }
   ],
   "source": [
    "Date.get_dow(20200229)"
   ]
  },
  {
   "cell_type": "markdown",
   "metadata": {},
   "source": [
    "# Job\n",
    "* start_at(ts, fmt = '%Y-%m-%d %H:%M:%S')\n",
    "* wait_about(hr)\n",
    "* pause_between(start_hr, end_hr)"
   ]
  },
  {
   "cell_type": "code",
   "execution_count": 28,
   "metadata": {},
   "outputs": [
    {
     "name": "stdout",
     "output_type": "stream",
     "text": [
      "Job starts at 2019-01-01 00:00:00\n",
      "605:24:24 left\n"
     ]
    },
    {
     "ename": "KeyboardInterrupt",
     "evalue": "",
     "output_type": "error",
     "traceback": [
      "\u001b[0;31m---------------------------------------------------------------------------\u001b[0m",
      "\u001b[0;31mKeyboardInterrupt\u001b[0m                         Traceback (most recent call last)",
      "\u001b[0;32m<ipython-input-28-d6b26f621405>\u001b[0m in \u001b[0;36m<module>\u001b[0;34m()\u001b[0m\n\u001b[1;32m      1\u001b[0m \u001b[0;31m#2019년 1월 1일 시작\u001b[0m\u001b[0;34m\u001b[0m\u001b[0;34m\u001b[0m\u001b[0m\n\u001b[0;32m----> 2\u001b[0;31m \u001b[0mJob\u001b[0m\u001b[0;34m.\u001b[0m\u001b[0mstart_at\u001b[0m\u001b[0;34m(\u001b[0m\u001b[0;34m'2019-01-01 00:00:00'\u001b[0m\u001b[0;34m)\u001b[0m\u001b[0;34m\u001b[0m\u001b[0m\n\u001b[0m",
      "\u001b[0;32m~/MyUtils/Job.py\u001b[0m in \u001b[0;36mstart_at\u001b[0;34m(ts, fmt)\u001b[0m\n\u001b[1;32m     15\u001b[0m                 \u001b[0mprint\u001b[0m\u001b[0;34m(\u001b[0m\u001b[0;34m\"{}:{}:{} left\"\u001b[0m\u001b[0;34m.\u001b[0m\u001b[0mformat\u001b[0m\u001b[0;34m(\u001b[0m\u001b[0mhrs\u001b[0m\u001b[0;34m,\u001b[0m\u001b[0mmins\u001b[0m\u001b[0;34m,\u001b[0m\u001b[0msec\u001b[0m\u001b[0;34m)\u001b[0m\u001b[0;34m)\u001b[0m\u001b[0;34m\u001b[0m\u001b[0m\n\u001b[1;32m     16\u001b[0m                 \u001b[0;32mwhile\u001b[0m \u001b[0;32mTrue\u001b[0m\u001b[0;34m:\u001b[0m\u001b[0;34m\u001b[0m\u001b[0m\n\u001b[0;32m---> 17\u001b[0;31m                         \u001b[0;32mif\u001b[0m \u001b[0mtime\u001b[0m\u001b[0;34m.\u001b[0m\u001b[0mtime\u001b[0m\u001b[0;34m(\u001b[0m\u001b[0;34m)\u001b[0m\u001b[0;34m>\u001b[0m\u001b[0munix_start_time\u001b[0m\u001b[0;34m:\u001b[0m\u001b[0;34m\u001b[0m\u001b[0m\n\u001b[0m\u001b[1;32m     18\u001b[0m                                 \u001b[0;32mbreak\u001b[0m\u001b[0;34m\u001b[0m\u001b[0m\n\u001b[1;32m     19\u001b[0m \u001b[0;34m\u001b[0m\u001b[0m\n",
      "\u001b[0;31mKeyboardInterrupt\u001b[0m: "
     ]
    }
   ],
   "source": [
    "#2019년 1월 1일 시작\n",
    "Job.start_at('2019-01-01 00:00:00')"
   ]
  },
  {
   "cell_type": "code",
   "execution_count": null,
   "metadata": {},
   "outputs": [],
   "source": [
    "#8시간 후 시작\n",
    "Job.wait_about(8)"
   ]
  },
  {
   "cell_type": "code",
   "execution_count": null,
   "metadata": {},
   "outputs": [],
   "source": [
    "#23시부터 새벽 2시에는 작업 중지\n",
    "Job.pause_between(23,2)"
   ]
  },
  {
   "cell_type": "markdown",
   "metadata": {},
   "source": [
    "# myhive 와 Date 사용 template\n",
    "\n",
    "try, except 문을 써야 특정날짜 오류에도 나머지를 돌릴수 있음\n",
    "\n",
    "예 20181001 오류나도 20181002 실행"
   ]
  },
  {
   "cell_type": "code",
   "execution_count": 2,
   "metadata": {},
   "outputs": [
    {
     "name": "stdout",
     "output_type": "stream",
     "text": [
      "select * from some_table where partition = '20181001'\n",
      "select * from some_table where partition = '20181002'\n"
     ]
    }
   ],
   "source": [
    "\n",
    "for date in Date.between(20181001,20181002):\n",
    "    Job.pause_between(23,2)\n",
    "    try:\n",
    "        sql = \"\"\"select * from some_table where partition = '{D}'\"\"\".format(D= date)\n",
    "        print(sql)\n",
    "        #myhive.sql(sql)\n",
    "    except Exception as e:\n",
    "        print(e)\n"
   ]
  },
  {
   "cell_type": "code",
   "execution_count": 2,
   "metadata": {},
   "outputs": [
    {
     "ename": "NameError",
     "evalue": "name 'presto' is not defined",
     "output_type": "error",
     "traceback": [
      "\u001b[0;31m---------------------------------------------------------------------------\u001b[0m",
      "\u001b[0;31mNameError\u001b[0m                                 Traceback (most recent call last)",
      "\u001b[0;32m<ipython-input-2-5d59e147d387>\u001b[0m in \u001b[0;36m<module>\u001b[0;34m()\u001b[0m\n\u001b[0;32m----> 1\u001b[0;31m \u001b[0mpresto\u001b[0m\u001b[0;34m\u001b[0m\u001b[0m\n\u001b[0m",
      "\u001b[0;31mNameError\u001b[0m: name 'presto' is not defined"
     ]
    }
   ],
   "source": [
    "presto"
   ]
  },
  {
   "cell_type": "code",
   "execution_count": null,
   "metadata": {},
   "outputs": [],
   "source": []
  }
 ],
 "metadata": {
  "kernelspec": {
   "display_name": "Python 3",
   "language": "python",
   "name": "python3"
  },
  "language_info": {
   "codemirror_mode": {
    "name": "ipython",
    "version": 3
   },
   "file_extension": ".py",
   "mimetype": "text/x-python",
   "name": "python",
   "nbconvert_exporter": "python",
   "pygments_lexer": "ipython3",
   "version": "3.5.4"
  }
 },
 "nbformat": 4,
 "nbformat_minor": 2
}
